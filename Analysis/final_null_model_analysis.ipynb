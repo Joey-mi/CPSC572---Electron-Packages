{
 "cells": [
  {
   "cell_type": "code",
   "execution_count": 37,
   "metadata": {},
   "outputs": [],
   "source": [
    "import csv\n",
    "import math\n",
    "import random\n",
    "import time\n",
    "import numpy as np\n",
    "import networkx as nx\n",
    "import matplotlib.pyplot as plt\n",
    "import matplotlib as mpl\n",
    "import powerlaw as pl\n",
    "from tqdm.auto import tqdm\n",
    "from matplotlib.ticker import ScalarFormatter\n",
    "\n",
    "%matplotlib inline\n",
    "# Python magic command that allows us to render the plots in our notebook rather than dumping"
   ]
  },
  {
   "cell_type": "code",
   "execution_count": 38,
   "metadata": {},
   "outputs": [],
   "source": [
    "# change defaults to be less ugly\n",
    "mpl.rc('xtick', labelsize=14, color=\"#222222\") \n",
    "mpl.rc('ytick', labelsize=14, color=\"#222222\") \n",
    "mpl.rc('font', **{'family':'sans-serif','sans-serif':['Arial']})\n",
    "mpl.rc('font', size=16)\n",
    "mpl.rc('xtick.major', size=20, width=1)\n",
    "mpl.rc('xtick.minor', size=5, width=1)\n",
    "mpl.rc('ytick.major', size=6, width=1)\n",
    "mpl.rc('ytick.minor', size=3, width=1)\n",
    "mpl.rc('axes', linewidth=1, edgecolor=\"#222222\", labelcolor=\"#222222\")\n",
    "mpl.rc('text', usetex=False, color=\"#222222\")\n",
    "\n",
    "special_sizes = [10**2, 10**3, 10**4]\n",
    "colors = dict(zip(special_sizes, 'rgb'))\n",
    "bins = dict(zip(special_sizes, [10, 20, 30]))\n",
    "\n",
    "G_nonDev = nx.Graph()"
   ]
  },
  {
   "cell_type": "code",
   "execution_count": 39,
   "metadata": {},
   "outputs": [],
   "source": [
    "def plot_deg_dist(G, bins, color, isweighted):\n",
    "    deg = []\n",
    "    if isweighted:\n",
    "        deg = [G.degree(node, weight='weight') for node in G]\n",
    "    else:\n",
    "        deg = [val for (_, val) in G.degree()]\n",
    "\n",
    "    kmin, kmax = min(deg), max(deg)\n",
    "\n",
    "    if kmin == 0:\n",
    "        be = np.logspace(kmin, np.log10(kmax), bins) # logarithms of bin edges\n",
    "    else:\n",
    "        be = np.logspace(np.log10(kmin), np.log10(kmax), bins) # logarithms of bin edges\n",
    "    \n",
    "    logbe = np.log10(be)\n",
    "    # \"x\" values should be midway through each bin (in log space)\n",
    "    x = 10**((logbe[1:] + logbe[:-1])/2)\n",
    "    # plot empirical data\n",
    "    p, _ = np.histogram(deg, bins=be, density=True)\n",
    "    plt.loglog(x, p, color=color, linestyle='none', marker='o', alpha=0.65,\n",
    "               markeredgecolor='none')\n",
    "    fit = pl.Fit(deg, xmin=min(deg), xmax=max(deg))"
   ]
  },
  {
   "cell_type": "code",
   "execution_count": 40,
   "metadata": {},
   "outputs": [],
   "source": [
    "def despine():\n",
    "    ax = plt.gca()\n",
    "    ax.spines['right'].set_visible(False)\n",
    "    ax.spines['top'].set_visible(False)\n",
    "    ax.xaxis.set_ticks_position('bottom')\n",
    "    ax.yaxis.set_ticks_position('left')"
   ]
  },
  {
   "cell_type": "markdown",
   "metadata": {},
   "source": [
    "### Format Graph from the node list and edge list"
   ]
  },
  {
   "cell_type": "code",
   "execution_count": 41,
   "metadata": {},
   "outputs": [],
   "source": [
    "G_nonDev = nx.Graph()\n",
    "\n",
    "with open('../Data/nonDevDepNodeListCommunityUnweightedEigen.csv', 'r') as file:\n",
    "    for line in file:\n",
    "        id, label, dependencies, community, eigenval = line.strip().split('\\t')\n",
    "        \n",
    "        deps = dependencies.split(\",\")\n",
    "        deps = [x for x in deps if (']' and '[') not in x]\n",
    "        deps = [x.replace('\"', '') for x in deps]\n",
    "        deps = [x.replace(\"'\", '') for x in deps]\n",
    "        deps = [x.replace(\" \", '') for x in deps]\n",
    "        deps = [x.replace(\"]\", '') for x in deps]\n",
    "\n",
    "        G_nonDev.add_node(id, label=label, dependencies=deps, community=community, eigenval=eigenval)\n",
    "\n",
    "with open('../Data/nonDevDepEdgeList.csv', 'r') as file:\n",
    "    next(file)\n",
    "\n",
    "    for line in file:\n",
    "        source, target, weight, label = line.strip().split('\\t')\n",
    "\n",
    "        deps = label.split(\",\")\n",
    "        # deps = [x for x in deps if ('}' and '{') not in x]\n",
    "        deps = [x.replace('\"', '') for x in deps]\n",
    "        deps = [x.replace(\"'\", '') for x in deps]\n",
    "        deps = [x.replace(\" \", '') for x in deps]\n",
    "        deps = [x.replace(\"}\", '') for x in deps]\n",
    "        deps = [x.replace(\"{\", '') for x in deps]\n",
    "\n",
    "        G_nonDev.add_edge(source, target)\n",
    "\n",
    "        # print(f'{source}, {target}, {weight}, {deps}')\n",
    "        G_nonDev[source][target]['weight'] = float(weight)\n",
    "        G_nonDev[source][target]['label'] = deps\n",
    "\n",
    "# In the column header ID when we open it when reading the file \n",
    "# it gets mistakenly added as a node when I read the csv line by line\n",
    "# in my above code so I just remove it here.\n",
    "G_nonDev.remove_node('ID')"
   ]
  },
  {
   "cell_type": "markdown",
   "metadata": {},
   "source": [
    "#### Standard Variables to be used in null model box plots"
   ]
  },
  {
   "cell_type": "code",
   "execution_count": 42,
   "metadata": {},
   "outputs": [],
   "source": [
    "C_mean_dev = np.mean(list(nx.clustering(G_nonDev).values()))\n",
    "\n",
    "N = len(G_nonDev)\n",
    "\n",
    "# p value at which giant component (of size log(n) nodes) is expected\n",
    "p_giant_nonDev = 1.0 / (N - 1)\n",
    "# p value at which graph is expected to become completely connected\n",
    "p_conn_nonDev = math.log(N) / N\n",
    "\n",
    "# identify largest connected component | link: https://networkx.org/documentation/stable/auto_examples/graphviz_layout/plot_giant_component.html\n",
    "Rcc_nonDev = sorted(nx.connected_components(G_nonDev), key=len, reverse=True)\n",
    "Giant_nonDev = G_nonDev.subgraph(Rcc_nonDev[0])\n",
    "\n",
    "S_Avg_Path = nx.average_shortest_path_length(Giant_nonDev)"
   ]
  },
  {
   "cell_type": "markdown",
   "metadata": {},
   "source": [
    "### Format Communities into a list of sets"
   ]
  },
  {
   "cell_type": "code",
   "execution_count": 43,
   "metadata": {},
   "outputs": [
    {
     "name": "stdout",
     "output_type": "stream",
     "text": [
      "# of Communities: 126\n"
     ]
    }
   ],
   "source": [
    "\n",
    "# This works since Communities id's go from 1 to the last community\n",
    "max_community = -1\n",
    "for node in G_nonDev.nodes():\n",
    "    community_id = int(G_nonDev.nodes[node]['community'])\n",
    "    if community_id > max_community:\n",
    "        max_community = community_id\n",
    "\n",
    "print(f\"# of Communities: {max_community}\")\n",
    "\n",
    "community_sets = [set() for _ in range(max_community)]\n",
    "for node in G_nonDev.nodes():\n",
    "    community_sets[int(G_nonDev.nodes[node]['community']) - 1].add(node)\n"
   ]
  },
  {
   "cell_type": "markdown",
   "metadata": {},
   "source": [
    "### Get values needed to construct the planted partition graph"
   ]
  },
  {
   "cell_type": "code",
   "execution_count": 44,
   "metadata": {},
   "outputs": [
    {
     "name": "stdout",
     "output_type": "stream",
     "text": [
      "[328, 1202, 1030, 648, 492, 1468, 994, 512, 1170, 1378, 912, 456, 936, 870, 260, 1034, 2, 1176, 974, 2, 446, 806, 1322, 6, 662, 2, 1140, 1094, 540, 678, 642, 600, 1366, 362, 358, 1174, 876, 2, 2, 2, 6, 2, 2, 2, 2, 2, 6, 6, 2, 2, 2, 2, 2, 2, 6, 2, 2, 2, 2, 12, 2, 2, 2, 2, 2, 12, 2, 2, 12, 2, 2, 6, 2, 2, 2, 2, 2, 2, 2, 2, 2, 2, 6, 2, 6, 2, 6, 2, 4, 2, 2, 2, 2, 6, 2, 2, 2, 2, 2, 2, 6, 2, 4, 2, 2, 2, 2, 2, 2, 2, 2, 2, 2, 2, 2, 2, 2, 6, 2, 2, 2, 2, 2, 2, 2, 6]\n",
      "[210, 1039, 728, 527, 373, 1318, 860, 390, 907, 964, 720, 459, 611, 486, 129, 803, 0, 1111, 781, 0, 270, 457, 787, 0, 490, 0, 721, 796, 358, 372, 369, 350, 992, 80, 218, 879, 537, 0, 0, 0, 0, 0, 0, 0, 0, 0, 0, 0, 0, 0, 0, 0, 0, 0, 0, 0, 0, 0, 0, 0, 0, 0, 0, 0, 0, 0, 0, 0, 0, 0, 0, 0, 0, 0, 0, 0, 0, 0, 0, 0, 0, 0, 0, 0, 0, 0, 0, 0, 0, 0, 0, 0, 0, 0, 0, 0, 0, 0, 0, 0, 0, 0, 0, 0, 0, 0, 0, 0, 0, 0, 0, 0, 0, 0, 0, 0, 0, 0, 0, 0, 0, 0, 0, 0, 0, 0]\n",
      "[538, 2241, 1758, 1175, 865, 2786, 1854, 902, 2077, 2342, 1632, 915, 1547, 1356, 389, 1837, 2, 2287, 1755, 2, 716, 1263, 2109, 6, 1152, 2, 1861, 1890, 898, 1050, 1011, 950, 2358, 442, 576, 2053, 1413, 2, 2, 2, 6, 2, 2, 2, 2, 2, 6, 6, 2, 2, 2, 2, 2, 2, 6, 2, 2, 2, 2, 12, 2, 2, 2, 2, 2, 12, 2, 2, 12, 2, 2, 6, 2, 2, 2, 2, 2, 2, 2, 2, 2, 2, 6, 2, 6, 2, 6, 2, 4, 2, 2, 2, 2, 6, 2, 2, 2, 2, 2, 2, 6, 2, 4, 2, 2, 2, 2, 2, 2, 2, 2, 2, 2, 2, 2, 2, 2, 6, 2, 2, 2, 2, 2, 2, 2, 6]\n"
     ]
    }
   ],
   "source": [
    "edges_in = [0] * len(community_sets)\n",
    "edges_out = [0] * len(community_sets)\n",
    "all_edges = [0] * len(community_sets)\n",
    "visited_in = []\n",
    "\n",
    "for i in range(len(community_sets)):\n",
    "    for n in community_sets[i]:\n",
    "        for e in G_nonDev.neighbors(n):\n",
    "            if e in visited_in:\n",
    "                pass\n",
    "            if e in community_sets[i]:\n",
    "                edges_in[i] += 1\n",
    "            else:\n",
    "                edges_out[i] += 1\n",
    "            all_edges[i] += 1\n",
    "        visited_in.append(n)\n",
    "    visited_in = []\n",
    "\n",
    "print(edges_in)\n",
    "print(edges_out)\n",
    "print(all_edges)"
   ]
  },
  {
   "cell_type": "code",
   "execution_count": 45,
   "metadata": {},
   "outputs": [
    {
     "name": "stdout",
     "output_type": "stream",
     "text": [
      "\\% of Edges Within Community: 0.8937945182251009\n",
      "\\% of Edges Going Out of Community: 0.106205481774899\n",
      "Average Nodes in Community: 40\n"
     ]
    }
   ],
   "source": [
    "p_in = 0\n",
    "p_out = 0\n",
    "\n",
    "for i in range(len(community_sets)):\n",
    "    if all_edges[i] != 0:\n",
    "        p_in += (edges_in[i] / all_edges[i])\n",
    "        p_out += (edges_out[i] / all_edges[i])\n",
    "\n",
    "p_in = p_in / len(community_sets)\n",
    "p_out = p_out / len(community_sets)\n",
    "\n",
    "avg_vertices = int(len(G_nonDev.nodes) / len(community_sets))\n",
    "\n",
    "print(f'\\% of Edges Within Community: {p_in}\\n\\% of Edges Going Out of Community: {p_out}')\n",
    "print(f\"Average Nodes in Community: {avg_vertices}\")"
   ]
  },
  {
   "cell_type": "markdown",
   "metadata": {},
   "source": [
    "### Generate Planted Partition Models"
   ]
  },
  {
   "cell_type": "code",
   "execution_count": 46,
   "metadata": {},
   "outputs": [
    {
     "name": "stderr",
     "output_type": "stream",
     "text": [
      "100%|██████████| 1/1 [01:43<00:00, 103.26s/it]\n"
     ]
    }
   ],
   "source": [
    "\n",
    "short_path_PPG = []\n",
    "clustering_PPG = []\n",
    "\n",
    "for i in tqdm(range(1000)):\n",
    "    # Set the seed based on current time\n",
    "    random.seed(int(time.time()))\n",
    "    # Generate a random number\n",
    "    random_number = round(((random.random()) * 100))\n",
    "\n",
    "    G_pp_graph = nx.planted_partition_graph(l=len(community_sets), k=avg_vertices, p_in=p_in, p_out=p_out, seed=random_number)\n",
    "    short_path_PPG.append(nx.average_shortest_path_length(G_pp_graph))\n",
    "    clustering_PPG.append(np.mean(list(nx.clustering(G_pp_graph).values())))\n"
   ]
  },
  {
   "cell_type": "markdown",
   "metadata": {},
   "source": [
    "##### Degree Distribution fo a Planted Partition Graph"
   ]
  },
  {
   "cell_type": "code",
   "execution_count": 59,
   "metadata": {},
   "outputs": [
    {
     "name": "stderr",
     "output_type": "stream",
     "text": [
      "No artists with labels found to put in legend.  Note that artists whose label start with an underscore are ignored when legend() is called with no argument.\n"
     ]
    },
    {
     "data": {
      "image/png": "[encoded data removed]",
      "text/plain": [
       "<Figure size 640x480 with 1 Axes>"
      ]
     },
     "metadata": {},
     "output_type": "display_data"
    }
   ],
   "source": [
    "ax = plt.subplot(111)\n",
    "\n",
    "plot_deg_dist(G_pp_graph, 20, \"blue\", False)\n",
    "plt.legend(frameon=False, numpoints=1)\n",
    "plt.xlabel(r\"degree, $k$\")\n",
    "plt.ylabel(r\"$P(k)$\")\n",
    "despine()\n",
    "\n",
    "# Customize the tick formatter for the x and y axes\n",
    "ax.xaxis.set_major_formatter(ScalarFormatter(useMathText=False))\n",
    "ax.yaxis.set_major_formatter(ScalarFormatter(useMathText=False))\n",
    "\n",
    "\n",
    "plt.show()"
   ]
  },
  {
   "cell_type": "markdown",
   "metadata": {},
   "source": [
    "Here are the mean and standard deviation for the path lengths and clustering coefficients"
   ]
  },
  {
   "cell_type": "code",
   "execution_count": null,
   "metadata": {},
   "outputs": [
    {
     "name": "stdout",
     "output_type": "stream",
     "text": [
      "Mean Shortest Path: 1.8877009012244177\n",
      "Standard Deviaton of the Shortest Path: 0.00010836116213428748\n",
      "Mean Clustering Coefficient: 0.11453719235070015\n",
      "Standard Deviaton of the Clustering Coefficient: 0.00010508014603923277\n"
     ]
    }
   ],
   "source": [
    "mean_shortest_PPG = np.mean(short_path_PPG)\n",
    "std_shortest_PPG = np.std(short_path_PPG)\n",
    "print(f\"Mean Shortest Path: {np.mean(short_path_PPG)}\")\n",
    "print(f\"Standard Deviaton of the Shortest Path: {np.std(short_path_PPG)}\")\n",
    "\n",
    "mean_clustering_PPG = np.mean(clustering_PPG)\n",
    "std_clustering_PPG = np.std(clustering_PPG)\n",
    "print(f\"Mean Clustering Coefficient: {np.mean(clustering_PPG)}\")\n",
    "print(f\"Standard Deviaton of the Clustering Coefficient: {np.std(clustering_PPG)}\")"
   ]
  },
  {
   "cell_type": "code",
   "execution_count": null,
   "metadata": {},
   "outputs": [
    {
     "name": "stdout",
     "output_type": "stream",
     "text": [
      "Original Clustering:  0.5643044309447203\n"
     ]
    },
    {
     "data": {
      "image/png": "[encoded data removed]",
      "text/plain": [
       "<Figure size 600x400 with 1 Axes>"
      ]
     },
     "metadata": {},
     "output_type": "display_data"
    }
   ],
   "source": [
    "fig = plt.figure(figsize=(6,4))\n",
    "\n",
    "print(\"Original Clustering: \", C_mean_dev)\n",
    "\n",
    "plt.boxplot(clustering_PPG)\n",
    "plt.plot(2,C_mean_dev,'r',marker='+',markersize=15)\n",
    "ax = plt.gca()\n",
    "ax.set_xticks([1,2],labels=['Planted Partition','Original'])\n",
    "plt.ylabel('Clustering')\n",
    "plt.xlim([0.5,2.5])\n",
    "plt.show()\n",
    "\n",
    "# data different from erdos renyi"
   ]
  },
  {
   "cell_type": "code",
   "execution_count": null,
   "metadata": {},
   "outputs": [
    {
     "name": "stdout",
     "output_type": "stream",
     "text": [
      "Original Shortest Path:  4.050134226653897\n"
     ]
    },
    {
     "data": {
      "image/png": "[encoded data removed]",
      "text/plain": [
       "<Figure size 600x400 with 1 Axes>"
      ]
     },
     "metadata": {},
     "output_type": "display_data"
    }
   ],
   "source": [
    "fig = plt.figure(figsize=(6,4))\n",
    "\n",
    "print(\"Original Shortest Path: \", S_Avg_Path)\n",
    "\n",
    "plt.boxplot(short_path_PPG)\n",
    "plt.plot(2,S_Avg_Path,'r',marker='+',markersize=15)\n",
    "ax = plt.gca()\n",
    "ax.set_xticks([1,2],labels=['Planted Partition','Original'])\n",
    "plt.ylabel('Shortest Path')\n",
    "plt.xlim([0.5,2.5])\n",
    "plt.show()\n",
    "\n",
    "# data different from erdos renyi"
   ]
  },
  {
   "cell_type": "markdown",
   "metadata": {},
   "source": [
    "### Generate a Degree Preserving Null Model"
   ]
  },
  {
   "cell_type": "code",
   "execution_count": null,
   "metadata": {},
   "outputs": [
    {
     "name": "stderr",
     "output_type": "stream",
     "text": [
      "100%|██████████| 10/10 [00:16<00:00,  1.66s/it]\n"
     ]
    }
   ],
   "source": [
    "clustering_DP = []\n",
    "short_path_DP = []\n",
    "\n",
    "d_DP = 0\n",
    "\n",
    "DP = G_nonDev.copy()\n",
    "\n",
    "for i in tqdm(range(1000)): # 1000 is better\n",
    "    \n",
    "    nx.double_edge_swap(DP,nswap=10*G_nonDev.number_of_edges(),max_tries=1000000)\n",
    "    C_DP = np.mean(list(nx.clustering(DP).values()))\n",
    "    if nx.is_connected(DP)==True:\n",
    "        d_DP = nx.average_shortest_path_length(DP,weight=None)\n",
    "    clustering_DP.append(C_DP)\n",
    "    short_path_DP.append(d_DP)\n",
    "    "
   ]
  },
  {
   "cell_type": "code",
   "execution_count": null,
   "metadata": {},
   "outputs": [
    {
     "name": "stdout",
     "output_type": "stream",
     "text": [
      "Mean Shortest Path: 0.0\n",
      "Standard Deviaton of the Shortest Path: 0.0\n",
      "Mean Clustering Coefficient: 0.007673852198834502\n",
      "Standard Deviaton of the Clustering Coefficient: 0.0002971682584695155\n"
     ]
    }
   ],
   "source": [
    "mean_shortest_DP = np.mean(short_path_DP)\n",
    "std_shortest_DP = np.std(short_path_DP)\n",
    "print(f\"Mean Shortest Path: {np.mean(short_path_DP)}\")\n",
    "print(f\"Standard Deviaton of the Shortest Path: {np.std(short_path_DP)}\")\n",
    "\n",
    "mean_clustering_DP = np.mean(clustering_DP)\n",
    "std_clustering_DP = np.std(clustering_DP)\n",
    "print(f\"Mean Clustering Coefficient: {np.mean(clustering_DP)}\")\n",
    "print(f\"Standard Deviaton of the Clustering Coefficient: {np.std(clustering_DP)}\")"
   ]
  },
  {
   "cell_type": "code",
   "execution_count": null,
   "metadata": {},
   "outputs": [
    {
     "data": {
      "image/png": "[encoded data removed]",
      "text/plain": [
       "<Figure size 600x400 with 1 Axes>"
      ]
     },
     "metadata": {},
     "output_type": "display_data"
    }
   ],
   "source": [
    "fig = plt.figure(figsize=(6,4))\n",
    "\n",
    "plt.boxplot(clustering_DP)\n",
    "plt.plot(2,C_mean_dev,'r',marker='+',markersize=15)\n",
    "ax = plt.gca()\n",
    "ax.set_xticks([1,2],labels=['DP','Electron Packages'])\n",
    "plt.ylabel('Clustering')\n",
    "plt.xlim([0.5,2.5])\n",
    "plt.show()\n",
    "\n",
    "# data different from erdos renyi"
   ]
  },
  {
   "cell_type": "code",
   "execution_count": null,
   "metadata": {},
   "outputs": [
    {
     "data": {
      "image/png": "[encoded data removed]",
      "text/plain": [
       "<Figure size 600x400 with 1 Axes>"
      ]
     },
     "metadata": {},
     "output_type": "display_data"
    }
   ],
   "source": [
    "fig = plt.figure(figsize=(6,4))\n",
    "\n",
    "plt.boxplot(short_path_DP)\n",
    "plt.plot(2,S_Avg_Path,'r',marker='+',markersize=15)\n",
    "ax = plt.gca()\n",
    "ax.set_xticks([1,2],labels=['DP','Electron Packages'])\n",
    "plt.ylabel('Shortest Path')\n",
    "plt.xlim([0.5,2.5])\n",
    "plt.show()\n",
    "\n",
    "# data different from erdos renyi"
   ]
  },
  {
   "cell_type": "markdown",
   "metadata": {},
   "source": [
    "### Take the Top 5 Community Subgraph\n",
    "\n",
    "Note I remembered and marked down the top 5 communities calculated in the graph  whe I assign the variable `top_5_communities`"
   ]
  },
  {
   "cell_type": "code",
   "execution_count": null,
   "metadata": {},
   "outputs": [],
   "source": [
    "top_5_communities = [\"10\", \"33\", \"6\", \"23\", \"18\"]\n",
    "with open('Used_in_Gephi/nonDevDepNodeListCommunityUnweightedEigen.csv', 'r') as file:\n",
    "    for line in file:\n",
    "        id, label, dependencies, communities, eigenval = line.strip().split('\\t')\n",
    "\n",
    "        deps = dependencies.split(\",\")\n",
    "        deps = [x for x in deps if (']' and '[') not in x]\n",
    "        deps = [x.replace('\"', '') for x in deps]\n",
    "        deps = [x.replace(\"'\", '') for x in deps]\n",
    "        deps = [x.replace(\" \", '') for x in deps]\n",
    "        deps = [x.replace(\"]\", '') for x in deps]\n",
    "        G_nonDev.add_node(id, label=label, dependencies=deps, communities=communities, eigenval=eigenval)\n",
    "\n",
    "G_nonDev_top5 = nx.Graph()\n",
    "\n",
    "for n in G_nonDev.nodes():\n",
    "    if G_nonDev.nodes[n][\"communities\"] in top_5_communities:\n",
    "        G_nonDev_top5.add_node(n, label=n, dependencies=G_nonDev.nodes[n][\"dependencies\"], communities=G_nonDev.nodes[n][\"communities\"])\n",
    "\n",
    "\n",
    "with open('Project_Data/nonDevDepEdgeList.csv', 'r') as file:\n",
    "    next(file)\n",
    "\n",
    "    for line in file:\n",
    "        source, target, weight, label = line.strip().split('\\t')\n",
    "\n",
    "    \n",
    "        deps = label.split(\",\")\n",
    "        # deps = [x for x in deps if ('}' and '{') not in x]\n",
    "        deps = [x.replace('\"', '') for x in deps]\n",
    "        deps = [x.replace(\"'\", '') for x in deps]\n",
    "        deps = [x.replace(\" \", '') for x in deps]\n",
    "        deps = [x.replace(\"}\", '') for x in deps]\n",
    "        deps = [x.replace(\"{\", '') for x in deps]\n",
    "\n",
    "        if G_nonDev_top5.has_node(source) and G_nonDev_top5.has_node(target):\n",
    "\n",
    "            G_nonDev_top5.add_edge(source, target)\n",
    "\n",
    "            # print(f'{source}, {target}, {weight}, {deps}')\n",
    "            G_nonDev_top5[source][target]['weight'] = float(weight)\n",
    "            G_nonDev_top5[source][target]['label'] = deps"
   ]
  },
  {
   "cell_type": "markdown",
   "metadata": {},
   "source": [
    "### Repeat the setup for the Planted Partition Graph and the Degree Preserving Null Models"
   ]
  },
  {
   "cell_type": "code",
   "execution_count": null,
   "metadata": {},
   "outputs": [],
   "source": [
    "C_mean_dev_subgraph = np.mean(list(nx.clustering(G_nonDev_top5).values()))\n",
    "\n",
    "N_subgraph = len(G_nonDev)\n",
    "\n",
    "# p value at which giant component (of size log(n) nodes) is expected\n",
    "p_giant_nonDev_subgraph = 1.0 / (N_subgraph - 1)\n",
    "# p value at which graph is expected to become completely connected\n",
    "p_conn_nonDev_subgraph = math.log(N_subgraph) / N_subgraph\n",
    "\n",
    "# identify largest connected component | link: https://networkx.org/documentation/stable/auto_examples/graphviz_layout/plot_giant_component.html\n",
    "Rcc_nonDev_subgraph = sorted(nx.connected_components(G_nonDev_top5), key=len, reverse=True)\n",
    "Giant_subgraph = G_nonDev.subgraph(Rcc_nonDev_subgraph[0])\n",
    "\n",
    "S_Avg_Path_subgraph = nx.average_shortest_path_length(Giant_subgraph)"
   ]
  },
  {
   "cell_type": "code",
   "execution_count": null,
   "metadata": {},
   "outputs": [],
   "source": [
    "# This works since Communities id's go from 1 to the last community\n",
    "transform_ids = {10:0, 33:1, 6:2, 23:3, 18:4}\n",
    "\n",
    "community_sets_subgraph = [set() for _ in range(5)]\n",
    "for node in G_nonDev_top5.nodes():\n",
    "    community_sets_subgraph[transform_ids[int(G_nonDev_top5.nodes[node]['communities'])]].add(node)\n"
   ]
  },
  {
   "cell_type": "code",
   "execution_count": null,
   "metadata": {},
   "outputs": [
    {
     "name": "stdout",
     "output_type": "stream",
     "text": [
      "[1378, 1366, 1468, 1322, 1176]\n",
      "[228, 228, 285, 172, 253]\n",
      "[1606, 1594, 1753, 1494, 1429]\n"
     ]
    }
   ],
   "source": [
    "edges_in_subgraph = [0] * len(community_sets_subgraph)\n",
    "edges_out_subgraph = [0] * len(community_sets_subgraph)\n",
    "all_edges_subgraph = [0] * len(community_sets_subgraph)\n",
    "visited_in_subgraph = []\n",
    "\n",
    "for i in range(len(community_sets_subgraph)):\n",
    "    for n in community_sets_subgraph[i]:\n",
    "        for e in G_nonDev_top5.neighbors(n):\n",
    "            if e in visited_in_subgraph:\n",
    "                pass\n",
    "            if e in community_sets_subgraph[i]:\n",
    "                edges_in_subgraph[i] += 1\n",
    "            else:\n",
    "                edges_out_subgraph[i] += 1\n",
    "            all_edges_subgraph[i] += 1\n",
    "        visited_in_subgraph.append(n)\n",
    "    visited_in_subgraph = []\n",
    "\n",
    "print(edges_in_subgraph)\n",
    "print(edges_out_subgraph)\n",
    "print(all_edges_subgraph)"
   ]
  },
  {
   "cell_type": "code",
   "execution_count": null,
   "metadata": {},
   "outputs": [
    {
     "name": "stdout",
     "output_type": "stream",
     "text": [
      "\\% of Edges Within Community: 0.8520486987727155\n",
      "\\% of Edges Going Out of Community: 0.14795130122728445\n",
      "Average Nodes in Community: 240\n"
     ]
    }
   ],
   "source": [
    "p_in_subgraph = 0\n",
    "p_out_subgraph = 0\n",
    "\n",
    "for i in range(len(community_sets_subgraph)):\n",
    "    if all_edges_subgraph[i] != 0:\n",
    "        p_in_subgraph += (edges_in_subgraph[i] / all_edges_subgraph[i])\n",
    "        p_out_subgraph += (edges_out_subgraph[i] / all_edges_subgraph[i])\n",
    "\n",
    "p_in_subgraph = p_in_subgraph / len(community_sets_subgraph)\n",
    "p_out_subgraph = p_out_subgraph / len(community_sets_subgraph)\n",
    "\n",
    "avg_vertices_subgraph = int(len(G_nonDev_top5.nodes) / len(community_sets_subgraph))\n",
    "\n",
    "print(f'\\% of Edges Within Community: {p_in_subgraph}\\n\\% of Edges Going Out of Community: {p_out_subgraph}')\n",
    "print(f\"Average Nodes in Community: {avg_vertices_subgraph}\")"
   ]
  },
  {
   "cell_type": "markdown",
   "metadata": {},
   "source": [
    "### Generate Null Models"
   ]
  },
  {
   "cell_type": "markdown",
   "metadata": {},
   "source": [
    "##### Planted Partition Graphs"
   ]
  },
  {
   "cell_type": "code",
   "execution_count": null,
   "metadata": {},
   "outputs": [],
   "source": [
    "\n",
    "short_path_PPG_subgraph = []\n",
    "clustering_PPG_subgraph = []\n",
    "\n",
    "for i in tqdm(range(10)):\n",
    "    # Set the seed based on current time\n",
    "    random.seed(int(time.time()))\n",
    "    # Generate a random number\n",
    "    random_number = round(((random.random()) * 100))\n",
    "\n",
    "    G_pp_subgraph = nx.planted_partition_graph(l=len(community_sets_subgraph), k=avg_vertices_subgraph, p_in=p_in_subgraph, p_out=p_out_subgraph, seed=random_number)\n",
    "    short_path_PPG_subgraph.append(nx.average_shortest_path_length(G_pp_subgraph))\n",
    "    clustering_PPG_subgraph.append(np.mean(list(nx.clustering(G_pp_subgraph).values())))\n"
   ]
  },
  {
   "cell_type": "code",
   "execution_count": null,
   "metadata": {},
   "outputs": [],
   "source": [
    "mean_shortest_PPG_subgraph = np.mean(short_path_PPG_subgraph)\n",
    "std_shortest_PPG_subgraph = np.std(short_path_PPG_subgraph)\n",
    "print(f\"Mean Shortest Path: {np.mean(mean_shortest_PPG_subgraph)}\")\n",
    "print(f\"Standard Deviaton of the Shortest Path: {np.std(std_shortest_PPG_subgraph)}\")\n",
    "\n",
    "mean_clustering_PPG_subgraph = np.mean(clustering_PPG_subgraph)\n",
    "std_clustering_PPG_subgraph = np.std(clustering_PPG_subgraph)\n",
    "print(f\"Mean Clustering Coefficient: {np.mean(mean_clustering_PPG_subgraph)}\")\n",
    "print(f\"Standard Deviaton of the Clustering Coefficient: {np.std(std_clustering_PPG_subgraph)}\")"
   ]
  },
  {
   "cell_type": "markdown",
   "metadata": {},
   "source": [
    "##### Degree Preserving Null Model"
   ]
  },
  {
   "cell_type": "code",
   "execution_count": null,
   "metadata": {},
   "outputs": [],
   "source": [
    "clustering_DP_subgraph = []\n",
    "short_path_DP_subgraph = []\n",
    "\n",
    "d_DP_subgraph = 0\n",
    "\n",
    "DP_subgraph = G_nonDev_top5.copy()\n",
    "\n",
    "for i in tqdm(range(10)): # 1000 is better\n",
    "    \n",
    "    nx.double_edge_swap(DP,nswap=10*G_nonDev_top5.number_of_edges(),max_tries=1000000)\n",
    "    C_DP_subgraph = np.mean(list(nx.clustering(DP_subgraph).values()))\n",
    "    if nx.is_connected(DP_subgraph)==True:\n",
    "        d_DP_subgraph = nx.average_shortest_path_length(DP_subgraph,weight=None)\n",
    "    clustering_DP_subgraph.append(C_DP_subgraph)\n",
    "    short_path_DP_subgraph.append(d_DP_subgraph)\n",
    "    "
   ]
  },
  {
   "cell_type": "code",
   "execution_count": null,
   "metadata": {},
   "outputs": [],
   "source": [
    "mean_shortest_DP_subgraph = np.mean(short_path_DP_subgraph)\n",
    "std_shortest_DP_subgraph = np.std(short_path_DP_subgraph)\n",
    "print(f\"Mean Shortest Path: {np.mean(mean_shortest_DP_subgraph)}\")\n",
    "print(f\"Standard Deviaton of the Shortest Path: {np.std(std_shortest_DP_subgraph)}\")\n",
    "\n",
    "mean_clustering_DP_subgraph = np.mean(clustering_DP_subgraph)\n",
    "std_clustering_DP_subgraph = np.std(clustering_DP_subgraph)\n",
    "print(f\"Mean Clustering Coefficient: {np.mean(mean_clustering_DP_subgraph)}\")\n",
    "print(f\"Standard Deviaton of the Clustering Coefficient: {np.std(std_clustering_DP_subgraph)}\")"
   ]
  },
  {
   "cell_type": "markdown",
   "metadata": {},
   "source": [
    "##### Clustering Coefficient Box Plots"
   ]
  },
  {
   "cell_type": "code",
   "execution_count": null,
   "metadata": {},
   "outputs": [],
   "source": [
    "fig = plt.figure(figsize=(6,4))\n",
    "\n",
    "print(\"Original Clustering: \", C_mean_dev_subgraph)\n",
    "\n",
    "plt.boxplot(clustering_PPG_subgraph)\n",
    "plt.plot(2,C_mean_dev_subgraph,'r',marker='+',markersize=15)\n",
    "ax = plt.gca()\n",
    "ax.set_xticks([1,2],labels=['Planted Partition','Original'])\n",
    "plt.ylabel('Clustering')\n",
    "plt.xlim([0.5,2.5])\n",
    "plt.show()\n",
    "\n",
    "# data different from erdos renyi"
   ]
  },
  {
   "cell_type": "code",
   "execution_count": null,
   "metadata": {},
   "outputs": [],
   "source": [
    "fig = plt.figure(figsize=(6,4))\n",
    "\n",
    "plt.boxplot(clustering_DP_subgraph)\n",
    "plt.plot(2,C_mean_dev_subgraph,'r',marker='+',markersize=15)\n",
    "ax = plt.gca()\n",
    "ax.set_xticks([1,2],labels=['DP','Electron Packages'])\n",
    "plt.ylabel('Clustering')\n",
    "plt.xlim([0.5,2.5])\n",
    "plt.show()\n",
    "\n",
    "# data different from erdos renyi"
   ]
  },
  {
   "cell_type": "markdown",
   "metadata": {},
   "source": [
    "##### Shortest Paths Box Plots"
   ]
  },
  {
   "cell_type": "code",
   "execution_count": null,
   "metadata": {},
   "outputs": [],
   "source": [
    "fig = plt.figure(figsize=(6,4))\n",
    "\n",
    "print(\"Original Shortest Path: \", S_Avg_Path_subgraph)\n",
    "\n",
    "plt.boxplot(short_path_PPG_subgraph)\n",
    "plt.plot(2,S_Avg_Path_subgraph,'r',marker='+',markersize=15)\n",
    "ax = plt.gca()\n",
    "ax.set_xticks([1,2],labels=['Planted Partition','Original'])\n",
    "plt.ylabel('Shortest Path')\n",
    "plt.xlim([0.5,2.5])\n",
    "plt.show()\n",
    "\n",
    "# data different from erdos renyi"
   ]
  },
  {
   "cell_type": "code",
   "execution_count": null,
   "metadata": {},
   "outputs": [],
   "source": [
    "fig = plt.figure(figsize=(6,4))\n",
    "\n",
    "plt.boxplot(short_path_DP_subgraph)\n",
    "plt.plot(2,S_Avg_Path_subgraph,'r',marker='+',markersize=15)\n",
    "ax = plt.gca()\n",
    "ax.set_xticks([1,2],labels=['DP','Electron Packages'])\n",
    "plt.ylabel('Shortest Path')\n",
    "plt.xlim([0.5,2.5])\n",
    "plt.show()\n",
    "\n",
    "# data different from erdos renyi"
   ]
  }
 ],
 "metadata": {
  "kernelspec": {
   "display_name": "venv",
   "language": "python",
   "name": "python3"
  },
  "language_info": {
   "codemirror_mode": {
    "name": "ipython",
    "version": 3
   },
   "file_extension": ".py",
   "mimetype": "text/x-python",
   "name": "python",
   "nbconvert_exporter": "python",
   "pygments_lexer": "ipython3",
   "version": "3.10.7"
  }
 },
 "nbformat": 4,
 "nbformat_minor": 2
}
